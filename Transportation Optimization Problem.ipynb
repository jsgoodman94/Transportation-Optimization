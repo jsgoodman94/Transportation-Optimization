{
 "cells": [
  {
   "cell_type": "markdown",
   "metadata": {},
   "source": [
    "Transportation problem - using integer linear programming\n",
    "\n",
    "Tropicsun is a distributor of citrus products, with three large groves scattered around central Floria in the cities of Mt.Dota, Eustis,and Clermont. Tropicsun currently has 275,000 bushles of citrus at the grove in Mt.Dora, 400,000 bushes at the grove in Eustis, and 300,000 at the grove in Clermont.\n",
    "\n",
    "Tropicsun has processing plants in Ocala, Orlando and Lessburg with processing capacities to handle 200,000, 600,000, and 225,000 bushels. The local trucking company charges a flat per mile rate for each bushel (bushel-mile). The miles between the groves and processing planets are summarized below:\n",
    "\n",
    "\n",
    "Ocala\n",
    "\n",
    "Mt.Dora - 21\n",
    "Eustis - 35\n",
    "Clermont - 55\n",
    "\n",
    "Orlando\n",
    "\n",
    "Mt.Dora - 50\n",
    "Eustis - 30\n",
    "Clermont - 20\n",
    "\n",
    "Leesburg\n",
    "\n",
    "Mt.Dora - 40\n",
    "Eustis - 22\n",
    "Clermont - 25\n",
    "\n",
    "\n",
    "Objective: determine how many bushels to ship from each grove to each planet to minimize the number of bushel miles."
   ]
  },
  {
   "cell_type": "code",
   "execution_count": 3,
   "metadata": {},
   "outputs": [
    {
     "name": "stdout",
     "output_type": "stream",
     "text": [
      "ShipAmount_Clermont_Orlando = 300000.0\n",
      "ShipAmount_Eustis_Leesburg = 150000.0\n",
      "ShipAmount_Eustis_Orlando = 250000.0\n",
      "ShipAmount_Mt.Dora_Leesburg = 75000.0\n",
      "ShipAmount_Mt.Dora_Ocala = 200000.0\n",
      "Total bushel-miles= 24000000.0\n"
     ]
    }
   ],
   "source": [
    "from pulp import *\n",
    "\n",
    "GROVES = ['Mt.Dora','Eustis','Clermont']\n",
    "PLANTS = ['Ocala','Orlando','Leesburg']\n",
    "\n",
    "#dictionary of max amount of bushels that can be shipped to each plant\n",
    "mship = {'Ocala':200000,\n",
    "         'Orlando':600000,\n",
    "         'Leesburg':225000}\n",
    "\n",
    "#dictionary of what each grove will supply\n",
    "supply = {'Mt.Dora':275000,\n",
    "         'Eustis':400000,\n",
    "         'Clermont':300000}\n",
    "\n",
    "# dictionary of bushel miles\n",
    "bush = {'Mt.Dora':{'Ocala':21,'Orlando':50,'Leesburg':40},\n",
    "        'Eustis':{'Ocala':35,'Orlando':30,'Leesburg':22},\n",
    "        'Clermont':{'Ocala':55,'Orlando':20,'Leesburg':25}}\n",
    "\n",
    "# set problem variable\n",
    "prob = LpProblem(\"Transportation\",LpMinimize)\n",
    "\n",
    "#create routes list from lists above - all combinations\n",
    "routes = [(i,j) for i in GROVES for j in PLANTS]\n",
    "#decision variable\n",
    "amount_vars = LpVariable.dicts(\"ShipAmount\",(GROVES,PLANTS),0)\n",
    "\n",
    "#objective function\n",
    "prob += lpSum(amount_vars[i][j]*bush[i][j] for (i,j) in routes)\n",
    "\n",
    "#constraints\n",
    "for j in PLANTS:\n",
    "    prob += lpSum(amount_vars[i][j] for i in GROVES) <= mship[j]\n",
    "   \n",
    "for i in GROVES:\n",
    "    prob += lpSum(amount_vars[i][j] for j in PLANTS) == supply[i]\n",
    "   \n",
    "#solve\n",
    "prob.solve()\n",
    "\n",
    "for v in prob.variables():\n",
    "    if v.varValue > 0:\n",
    "        print(v.name,\"=\",v.varValue)\n",
    "print(\"Total bushel-miles=\",value(prob.objective))\n"
   ]
  }
 ],
 "metadata": {
  "kernelspec": {
   "display_name": "Python 3.8.1 64-bit",
   "language": "python",
   "name": "python38164bit51c0fad1d3df4d389204e88e4893e58c"
  },
  "language_info": {
   "codemirror_mode": {
    "name": "ipython",
    "version": 3
   },
   "file_extension": ".py",
   "mimetype": "text/x-python",
   "name": "python",
   "nbconvert_exporter": "python",
   "pygments_lexer": "ipython3",
   "version": "3.8.1"
  }
 },
 "nbformat": 4,
 "nbformat_minor": 2
}
